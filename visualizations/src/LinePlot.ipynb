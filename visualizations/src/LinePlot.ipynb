{
 "cells": [
  {
   "cell_type": "code",
   "execution_count": 6,
   "metadata": {},
   "outputs": [],
   "source": [
    "import matplotlib.pyplot as plt\n",
    "import pandas as pd\n",
    "import os\n",
    "import re\n",
    "import numpy as np\n",
    "from scipy.optimize import curve_fit\n",
    "from scipy.interpolate import interp1d"
   ]
  },
  {
   "cell_type": "code",
   "execution_count": 7,
   "metadata": {},
   "outputs": [],
   "source": [
    "output_folder_path = \"../outputs/RealWorld/facebookMedium/bots/01\"\n",
    "input_folder_path=\"../../output/RealWorld/facebookMedium/bots/01\"\n",
    "#datasets=['astroPh', 'emailEU', 'facebook', 'facebookMedium', 'facebookArtist', 'gitInteractions', 'hepPh', 'lastfm', 'redditHyperlink', 'twitchDE', 'twitchENGB', 'twitchES', 'twitchFR', 'twitchPTBR', 'twitchRU']\n",
    "#botRatio=['m0_', 'm25_', 'm50_', 'm75_', 'm100_', 'm125_', 'm150_', 'm175_', 'm200_']\n",
    "datasets=['facebookMedium']\n",
    "startRatio=['01', '02', '03', '04', '05']\n",
    "rewireRatio=[ 'r10_', 'r20_', 'r30_', 'r40_', 'r50_', 'r60_', 'r70_', 'r80_', 'r90_'] #key list for dictionary \n",
    "data2={}\n",
    "average={}\n"
   ]
  },
  {
   "cell_type": "code",
   "execution_count": 8,
   "metadata": {},
   "outputs": [],
   "source": [
    "def create_data(path):\n",
    "    files=os.listdir(path)\n",
    "    botRatio=[] #this will also act as key\n",
    "    for file in files:\n",
    "        if file.endswith(\".txt\"):\n",
    "            match = re.search(r\"_m(\\d+)_\", file)\n",
    "        if match:\n",
    "            result = match.group(0)\n",
    "        if not result in botRatio:\n",
    "            botRatio.append(result)\n",
    "    botRatio=sorted(botRatio, key=lambda x: int(x.strip('_m')))\n",
    "    #print(botRatio)\n",
    "    #We first group all data by rewiring rate in the outer dict and then by bot ratio in the inner dict\n",
    "    #data2[a][b] contains a list of all final opinion densities with reiwirte rate=a and bot ratio =b\n",
    "    #average[a][b] contains average of the respective list in data2\n",
    "    for rr in rewireRatio:\n",
    "        data2[rr]={}\n",
    "        average[rr]={}\n",
    "        for mat in botRatio:\n",
    "            data2[rr][mat]=[]\n",
    "            for file in files:\n",
    "                if mat in file and rr in file:\n",
    "                    #print(path+\" \"+file)\n",
    "                    with open(os.path.join(path, file), 'r') as f:\n",
    "                        content = pd.read_csv(path+\"/\"+file, names=['Epoch', 'Pop', 'Frac', 'DiscEdge'], skiprows=1, sep=\" \")\n",
    "                        content=content.drop(['Epoch', 'Pop'], axis=1)    \n",
    "                        finalPerc=content.iloc[-1, 0]\n",
    "                        data2[rr][mat].append(finalPerc)\n",
    "            avg=sum(data2[rr][mat])/len(data2[rr][mat])\n",
    "            if mat not in average[rr]: \n",
    "                average[rr][mat] = {}\n",
    "            average[rr][mat]=avg\n",
    "\n",
    "    # print(average)\n",
    "    # print(data2)"
   ]
  },
  {
   "cell_type": "code",
   "execution_count": 9,
   "metadata": {},
   "outputs": [],
   "source": [
    "def create_graphs():\n",
    "    # Create a 3x3 grid of subplots\n",
    "    fig, axes = plt.subplots(3, 3, figsize=(15, 15))\n",
    "    axes = axes.flatten()  # Flatten to iterate over each subplot\n",
    "    for idx, (outer_key, inner_dict) in enumerate(average.items()):\n",
    "        if idx>=9:\n",
    "            break\n",
    "        x_values = [float(k.strip('_m'))/10 for k in inner_dict.keys()]  # Extract numeric parts from keys\n",
    "\n",
    "        y_values = list(inner_dict.values())  # Get corresponding values\n",
    "        x = np.array(x_values)\n",
    "        y = np.array(y_values)\n",
    "\n",
    "        # Define a function for the regression model (e.g., polynomial of degree 2)\n",
    "        def model(x, a, b, c):\n",
    "            return a * x**2 + b * x + c\n",
    "\n",
    "        # Perform the curve fitting\n",
    "        params, _ = curve_fit(model, x, y)\n",
    "\n",
    "        # Create a function from the fitted parameters\n",
    "        fitted_model = lambda x: model(x, *params)\n",
    "\n",
    "        # Find the x value where y = 0.5 using interpolation\n",
    "        # Generate fine-grained x values for better accuracy\n",
    "        x_fine = np.linspace(min(x), max(x), 1000)\n",
    "        y_fine = fitted_model(x_fine)\n",
    "\n",
    "        # Interpolate to find the x value for y = 0.5\n",
    "        interp_func = interp1d(y_fine, x_fine, bounds_error=False, fill_value=\"extrapolate\")\n",
    "        x_at_y_0_5 = interp_func(0.5)\n",
    "        ax = axes[idx]  # Select the subplot\n",
    "        outer_key=''.join(filter(str.isdigit, outer_key))\n",
    "        ax.plot(x_values, y_values, marker='o', label=outer_key)\n",
    "        ax.set_title(f'Rewiring Rate = {outer_key}%, Inflection Point = {x_at_y_0_5:.2f}%')\n",
    "        ax.set_xlabel('Bot Ratio (%)')\n",
    "        ax.set_ylabel('Final Opinion Density of Minority')\n",
    "        ax.grid(True)\n",
    "    # Hide any unused subplots if data has fewer than 9 keys\n",
    "    for idx in range(len(average), 9):\n",
    "        fig.delaxes(axes[idx])\n",
    "\n",
    "    # Adjust layout\n",
    "    plt.tight_layout()\n",
    "    plt.show()\n",
    "    figpath=output_folder_path+\"/LinePlot.png\"\n",
    "    fig.savefig(figpath, dpi=350)\n",
    "        "
   ]
  },
  {
   "cell_type": "code",
   "execution_count": 1,
   "metadata": {},
   "outputs": [
    {
     "ename": "NameError",
     "evalue": "name 'datasets' is not defined",
     "output_type": "error",
     "traceback": [
      "\u001b[0;31m---------------------------------------------------------------------------\u001b[0m",
      "\u001b[0;31mNameError\u001b[0m                                 Traceback (most recent call last)",
      "\u001b[1;32m/home/sagarswap/Programming/Thesis/visualizations/src/LinePlot.ipynb Cell 5\u001b[0m line \u001b[0;36m1\n\u001b[0;32m----> <a href='vscode-notebook-cell:/home/sagarswap/Programming/Thesis/visualizations/src/LinePlot.ipynb#W4sZmlsZQ%3D%3D?line=0'>1</a>\u001b[0m \u001b[39mfor\u001b[39;00m dataset \u001b[39min\u001b[39;00m datasets:\n\u001b[1;32m      <a href='vscode-notebook-cell:/home/sagarswap/Programming/Thesis/visualizations/src/LinePlot.ipynb#W4sZmlsZQ%3D%3D?line=1'>2</a>\u001b[0m     create_data(input_folder_path)\n\u001b[1;32m      <a href='vscode-notebook-cell:/home/sagarswap/Programming/Thesis/visualizations/src/LinePlot.ipynb#W4sZmlsZQ%3D%3D?line=2'>3</a>\u001b[0m     create_graphs()\n",
      "\u001b[0;31mNameError\u001b[0m: name 'datasets' is not defined"
     ]
    }
   ],
   "source": [
    "for dataset in datasets:\n",
    "    create_data(input_folder_path)\n",
    "    create_graphs()"
   ]
  }
 ],
 "metadata": {
  "kernelspec": {
   "display_name": "Python 3",
   "language": "python",
   "name": "python3"
  },
  "language_info": {
   "codemirror_mode": {
    "name": "ipython",
    "version": 3
   },
   "file_extension": ".py",
   "mimetype": "text/x-python",
   "name": "python",
   "nbconvert_exporter": "python",
   "pygments_lexer": "ipython3",
   "version": "3.10.12"
  }
 },
 "nbformat": 4,
 "nbformat_minor": 2
}

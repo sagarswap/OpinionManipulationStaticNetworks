{
 "cells": [
  {
   "cell_type": "code",
   "execution_count": 1,
   "metadata": {},
   "outputs": [],
   "source": [
    "import networkx as nx\n",
    "import matplotlib.pyplot as plt\n",
    "import os\n",
    "from collections import defaultdict\n",
    "import copy\n",
    "import re"
   ]
  },
  {
   "cell_type": "code",
   "execution_count": 2,
   "metadata": {},
   "outputs": [],
   "source": [
    "output_folder_path = \"../outputs/RealWorld/facebookMedium/bots/01/\"\n",
    "input_folder_path=\"../../output/NetworkConfig/facebookMedium/bots/01/\"\n",
    "\n",
    "inner_dict={\"_r10_\":[], \"_r20_\": [], \"_r30_\": [], \"_r40_\": [], \"_r50_\": [], \"_r60_\": [], \"_r70_\": [], \"_r80_\": [], \"_r90_\": []}\n",
    "\n",
    "count_connected_components_bots=copy.deepcopy(inner_dict)\n",
    "count_connected_components_nobots=copy.deepcopy(inner_dict)\n",
    "largest_connected_component_bots=copy.deepcopy(inner_dict)\n",
    "largest_connected_component_nobots=copy.deepcopy(inner_dict)\n",
    "eccentricity_bots=copy.deepcopy(inner_dict)\n",
    "eccentricity_nobots=copy.deepcopy(inner_dict)\n",
    "diameter_bots=copy.deepcopy(inner_dict)\n",
    "diameter_nobots=copy.deepcopy(inner_dict)\n",
    "radius_bots=copy.deepcopy(inner_dict)\n",
    "radius_nobots=copy.deepcopy(inner_dict)\n",
    "degree_centrality_bots=copy.deepcopy(inner_dict)\n",
    "degree_centrality_nobots=copy.deepcopy(inner_dict)\n",
    "betweeness_centrality_bots=copy.deepcopy(inner_dict)\n",
    "betweeness_centrality_nobots=copy.deepcopy(inner_dict)\n",
    "closeness_centrality_bots=copy.deepcopy(inner_dict)\n",
    "closeness_centrality_nobots=copy.deepcopy(inner_dict)\n",
    "eigenvector_centrality_bots=copy.deepcopy(inner_dict)\n",
    "eigenvector_centrality_nobots=copy.deepcopy(inner_dict)\n",
    "katz_centrality_bots=copy.deepcopy(inner_dict)\n",
    "katz_centrality_nobots=copy.deepcopy(inner_dict)\n",
    "pagerank_bots=copy.deepcopy(inner_dict)\n",
    "pagerank_nobots=copy.deepcopy(inner_dict)\n",
    "harmonic_centrality_bots=copy.deepcopy(inner_dict)\n",
    "harmonic_centrality_nobots=copy.deepcopy(inner_dict)\n",
    "avg_clustering_coeff_bots=copy.deepcopy(inner_dict)\n",
    "avg_clustering_coeff_nobots=copy.deepcopy(inner_dict)\n",
    "triangles_per_node_bots=copy.deepcopy(inner_dict)\n",
    "triangles_per_node_nobots=copy.deepcopy(inner_dict)\n",
    "transitivity_bots=copy.deepcopy(inner_dict)\n",
    "transitivity_nobots=copy.deepcopy(inner_dict)"
   ]
  },
  {
   "cell_type": "code",
   "execution_count": 4,
   "metadata": {},
   "outputs": [],
   "source": [
    "def create_graph_from_file(filename):\n",
    "    G = nx.Graph()\n",
    "\n",
    "    with open(filename, 'r') as file:\n",
    "        for line in file: #Add all nodes to graph\n",
    "            parts = line.strip().split(\" -> \")\n",
    "            if len(parts) != 2:\n",
    "                continue  # Skip lines without an edge list\n",
    "            \n",
    "            # Extract node ID and state\n",
    "            node_info, neighbors = parts\n",
    "            node_id, state = node_info.split()\n",
    "            node_id = int(node_id)  # Convert to integer\n",
    "            state = state.strip(\"()\")  # Extract state\n",
    "            state = bool(int(state))  # Convert \"1\" -> True, \"0\" -> False\n",
    "\n",
    "            # Add node with state attribute\n",
    "            G.add_node(node_id, state=state)\n",
    "        \n",
    "        for line in file: #Add all neighbours to graph\n",
    "            parts = line.strip().split(\" -> \")\n",
    "            if len(parts) != 2:\n",
    "                continue  # Skip lines without an edge list\n",
    "            \n",
    "            # Extract node ID and state\n",
    "            node_info, neighbors = parts # Convert \"1\" -> True, \"0\" -> False\n",
    "\n",
    "            # Add edges to neighbors (if any)\n",
    "            if neighbors.strip():  # Check if there are neighbors\n",
    "                neighbor_ids = map(int, neighbors.split())  # Convert to integers\n",
    "                for neighbor in neighbor_ids:\n",
    "                    G.add_edge(node_id, neighbor)\n",
    "\n",
    "    return G"
   ]
  },
  {
   "cell_type": "code",
   "execution_count": 5,
   "metadata": {},
   "outputs": [],
   "source": [
    "# Get all files in the folder\n",
    "files = [f for f in os.listdir(input_folder_path) if os.path.isfile(os.path.join(input_folder_path, f))]\n",
    "\n",
    "# Group files by the first 13 characters\n",
    "groups = defaultdict(list)\n",
    "\n",
    "for file in files:\n",
    "    key = file[:13]  # First 13 characters of the filename\n",
    "    groups[key].append(file)\n",
    "\n",
    "# Convert the groups to a list of lists\n",
    "file_groups = [group for group in groups.values() if len(group) == 4]  # Only groups with exactly 4 files\n",
    "\n",
    "# Display the grouped files\n",
    "# for group in file_groups:\n",
    "#     print(group)"
   ]
  },
  {
   "cell_type": "code",
   "execution_count": 6,
   "metadata": {},
   "outputs": [],
   "source": [
    "for group in file_groups:\n",
    "    start_nobot = next((s for s in group if s.endswith(\"_start_nobots.txt\")), None)\n",
    "    start_bot = next((s for s in group if s.endswith(\"_start_bots.txt\")), None)\n",
    "    end_nobot = next((s for s in group if s.endswith(\"_end_nobots.txt\")), None)\n",
    "    end_bot = next((s for s in group if s.endswith(\"_end_bots.txt\")), None)\n",
    "\n",
    "    r_val=group[0][:5]\n",
    "    match = re.search(r'm(\\d+)', group[0])\n",
    "\n",
    "    # Extract and print the number\n",
    "    if match:\n",
    "        m_val = match.group(1)\n",
    "\n",
    "    if start_nobot is None or start_bot is None or end_nobot is None or end_bot is None:\n",
    "        print(f\"Missing file in group {group}\")\n",
    "        continue\n",
    "\n",
    "    if r_val != \"_r10_\":\n",
    "        continue\n",
    "\n",
    "    g_start_bot=create_graph_from_file(input_folder_path+start_bot)\n",
    "    g_start_nobot=create_graph_from_file(input_folder_path+start_nobot)\n",
    "    g_end_nobot=create_graph_from_file(input_folder_path+end_nobot)\n",
    "    g_end_bot=create_graph_from_file(input_folder_path+end_bot)\n",
    "\n",
    "    count_connected_components_bots[r_val].append([nx.connected_components(g_start_bot), nx.connected_components(g_end_bot), m_val])\n",
    "    count_connected_components_nobots[r_val].append([nx.connected_components(g_start_nobot), nx.connected_components(g_end_nobot), m_val])\n",
    "    # largest_connected_component_bots[r_val].append([nx.largest])\n",
    "    # largest_connected_component_nobots[r_val].append()\n",
    "    #eccentricity_bots[r_val].append([nx.eccentricity(g_start_bot), nx.eccentricity(g_end_bot), m_val])\n",
    "    #eccentricity_nobots[r_val].append([nx.eccentricity(g_start_nobot), nx.eccentricity(g_end_nobot), m_val])\n",
    "    #diameter_bots[r_val].append([nx.diameter(g_start_bot), nx.diameter(g_end_bot), m_val])\n",
    "    #diameter_nobots[r_val].append([nx.diameter(g_start_nobot), nx.diameter(g_end_nobot), m_val])\n",
    "    #radius_bots[r_val].append([nx.radius(g_start_bot), nx.radius(g_end_bot), m_val])\n",
    "    #radius_nobots[r_val].append([nx.radius(g_start_nobot), nx.radius(g_end_nobot), m_val])\n",
    "    # degree_centrality_bots[r_val].append([nx.degree_centrality(g_start_bot), nx.degree_centrality(g_end_bot), m_val])\n",
    "    # degree_centrality_nobots[r_val].append([nx.degree_centrality(g_start_nobot), nx.degree_centrality(g_end_nobot), m_val])\n",
    "    # betweeness_centrality_bots[r_val].append([nx.betweenness_centrality(g_start_bot), nx.betweenness_centrality(g_end_bot), m_val])\n",
    "    # betweeness_centrality_nobots[r_val].append([nx.betweenness_centrality(g_start_nobot), nx.betweenness_centrality(g_end_nobot), m_val])\n",
    "    # closeness_centrality_bots[r_val].append([nx.closeness_centrality(g_start_bot), nx.closeness_centrality(g_end_bot), m_val])\n",
    "    # closeness_centrality_nobots[r_val].append([nx.closeness_centrality(g_start_nobot), nx.closeness_centrality(g_end_nobot), m_val])\n",
    "    # eigenvector_centrality_bots[r_val].append([nx.eigenvector_centrality(g_start_bot), nx.eigenvector_centrality(g_end_bot), m_val])\n",
    "    # eigenvector_centrality_nobots[r_val].append([nx.eigenvector_centrality(g_start_nobot), nx.eigenvector_centrality(g_end_nobot), m_val])\n",
    "    # katz_centrality_bots[r_val].append([nx.katz_centrality(g_start_bot), nx.katz_centrality(g_end_bot), m_val])\n",
    "    # katz_centrality_nobots[r_val].append([nx.katz_centrality(g_start_nobot), nx.katz_centrality(g_end_nobot), m_val])\n",
    "    # pagerank_bots[r_val].append([nx.pagerank(g_start_bot), nx.pagerank(g_end_bot), m_val])\n",
    "    # pagerank_nobots[r_val].append([nx.pagerank(g_start_nobot), nx.pagerank(g_end_nobot), m_val])\n",
    "    # harmonic_centrality_bots[r_val].append([nx.harmonic_centrality(g_start_bot), nx.harmonic_centrality(g_end_bot), m_val])\n",
    "    # harmonic_centrality_nobots[r_val].append([nx.harmonic_centrality(g_start_nobot), nx.harmonic_centrality(g_end_nobot), m_val])\n",
    "    # avg_clustering_coeff_bots[r_val].append([nx.average_clustering(g_start_bot), nx.average_clustering(g_end_bot), m_val])\n",
    "    # avg_clustering_coeff_nobots[r_val].append([nx.average_clustering(g_start_nobot), nx.average_clustering(g_end_nobot), m_val])\n",
    "    # triangles_per_node_bots[r_val].append([nx.triangles(g_start_bot), nx.triangles(g_end_bot), m_val])\n",
    "    # triangles_per_node_nobots[r_val].append([nx.triangles(g_start_nobot), nx.triangles(g_end_nobot), m_val])\n",
    "    # transitivity_bots[r_val].append([nx.transitivity(g_start_bot), nx.transitivity(g_end_bot), m_val])\n",
    "    # transitivity_nobots[r_val].append([nx.transitivity(g_start_nobot), nx.transitivity(g_end_nobot), m_val])\n",
    "\n",
    "    del g_start_bot, g_start_nobot, g_end_bot, g_end_nobot\n"
   ]
  },
  {
   "cell_type": "code",
   "execution_count": 7,
   "metadata": {},
   "outputs": [
    {
     "ename": "TypeError",
     "evalue": "object of type 'generator' has no len()",
     "output_type": "error",
     "traceback": [
      "\u001b[0;31m---------------------------------------------------------------------------\u001b[0m",
      "\u001b[0;31mTypeError\u001b[0m                                 Traceback (most recent call last)",
      "\u001b[1;32m/home/sagarswap/Programming/Thesis/visualizations/src/ConnectedComponents.ipynb Cell 6\u001b[0m line \u001b[0;36m1\n\u001b[0;32m----> <a href='vscode-notebook-cell:/home/sagarswap/Programming/Thesis/visualizations/src/ConnectedComponents.ipynb#W5sZmlsZQ%3D%3D?line=0'>1</a>\u001b[0m \u001b[39mprint\u001b[39m(\u001b[39mlen\u001b[39;49m(count_connected_components_bots[\u001b[39m\"\u001b[39;49m\u001b[39m_r10_\u001b[39;49m\u001b[39m\"\u001b[39;49m][\u001b[39m0\u001b[39;49m][\u001b[39m0\u001b[39;49m]))\n",
      "\u001b[0;31mTypeError\u001b[0m: object of type 'generator' has no len()"
     ]
    }
   ],
   "source": [
    "print(len(count_connected_components_bots[\"_r10_\"][0][0]))"
   ]
  },
  {
   "cell_type": "code",
   "execution_count": 13,
   "metadata": {},
   "outputs": [],
   "source": [
    "G=create_graph_from_file(\"../../output/NetworkConfig/facebookMedium/bots/01/_r50_m90_9556_end_nobots.txt\")"
   ]
  },
  {
   "cell_type": "code",
   "execution_count": 1,
   "metadata": {},
   "outputs": [
    {
     "ename": "NameError",
     "evalue": "name 'G' is not defined",
     "output_type": "error",
     "traceback": [
      "\u001b[0;31m---------------------------------------------------------------------------\u001b[0m",
      "\u001b[0;31mNameError\u001b[0m                                 Traceback (most recent call last)",
      "\u001b[1;32m/home/sagarswap/Programming/Thesis/visualizations/src/ConnectedComponents.ipynb Cell 8\u001b[0m line \u001b[0;36m1\n\u001b[0;32m----> <a href='vscode-notebook-cell:/home/sagarswap/Programming/Thesis/visualizations/src/ConnectedComponents.ipynb#X10sZmlsZQ%3D%3D?line=0'>1</a>\u001b[0m node_colors \u001b[39m=\u001b[39m [\u001b[39m\"\u001b[39m\u001b[39mgreen\u001b[39m\u001b[39m\"\u001b[39m \u001b[39mif\u001b[39;00m G\u001b[39m.\u001b[39mnodes[n][\u001b[39m'\u001b[39m\u001b[39mstate\u001b[39m\u001b[39m'\u001b[39m] \u001b[39melse\u001b[39;00m \u001b[39m\"\u001b[39m\u001b[39mred\u001b[39m\u001b[39m\"\u001b[39m \u001b[39mfor\u001b[39;00m n \u001b[39min\u001b[39;00m G\u001b[39m.\u001b[39mnodes]\n\u001b[1;32m      <a href='vscode-notebook-cell:/home/sagarswap/Programming/Thesis/visualizations/src/ConnectedComponents.ipynb#X10sZmlsZQ%3D%3D?line=2'>3</a>\u001b[0m \u001b[39m# Draw the graph\u001b[39;00m\n\u001b[1;32m      <a href='vscode-notebook-cell:/home/sagarswap/Programming/Thesis/visualizations/src/ConnectedComponents.ipynb#X10sZmlsZQ%3D%3D?line=3'>4</a>\u001b[0m plt\u001b[39m.\u001b[39mfigure(figsize\u001b[39m=\u001b[39m(\u001b[39m24\u001b[39m, \u001b[39m16\u001b[39m))\n",
      "\u001b[0;31mNameError\u001b[0m: name 'G' is not defined"
     ]
    }
   ],
   "source": [
    "node_colors = [\"green\" if G.nodes[n]['state'] else \"red\" for n in G.nodes]\n",
    "\n",
    "# Draw the graph\n",
    "plt.figure(figsize=(24, 16))\n",
    "pos = nx.spring_layout(G, seed=42)  # Use force-directed layout\n",
    "nx.draw(G, pos, with_labels=False, node_color=node_colors, edge_color=\"gray\", node_size=50, font_size=10)\n",
    "\n",
    "# Show the graph\n",
    "plt.title(\"Network Graph with Node States at the End, without Bots with r=0.5 and m=0.09\")\n",
    "plt.show()"
   ]
  }
 ],
 "metadata": {
  "kernelspec": {
   "display_name": "Python 3",
   "language": "python",
   "name": "python3"
  },
  "language_info": {
   "codemirror_mode": {
    "name": "ipython",
    "version": 3
   },
   "file_extension": ".py",
   "mimetype": "text/x-python",
   "name": "python",
   "nbconvert_exporter": "python",
   "pygments_lexer": "ipython3",
   "version": "3.10.12"
  }
 },
 "nbformat": 4,
 "nbformat_minor": 2
}

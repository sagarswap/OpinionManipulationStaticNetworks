{
 "cells": [
  {
   "cell_type": "code",
   "execution_count": 91,
   "metadata": {},
   "outputs": [],
   "source": [
    "import matplotlib.pyplot as plt\n",
    "import pandas as pd\n",
    "import os\n",
    "import re\n",
    "import numpy as np"
   ]
  },
  {
   "cell_type": "code",
   "execution_count": 92,
   "metadata": {},
   "outputs": [],
   "source": [
    "output_folder_path = \"../outputs/RealWorld/facebookMedium/bots/02\"\n",
    "input_folder_path=\"../../output/RealWorld/facebookMedium/bots/02\"\n",
    "#datasets=['astroPh', 'emailEU', 'facebook', 'facebookMedium', 'facebookArtist', 'gitInteractions', 'hepPh', 'lastfm', 'redditHyperlink', 'twitchDE', 'twitchENGB', 'twitchES', 'twitchFR', 'twitchPTBR', 'twitchRU']\n",
    "#botRatio=['m0_', 'm25_', 'm50_', 'm75_', 'm100_', 'm125_', 'm150_', 'm175_', 'm200_']\n",
    "datasets=['facebookMedium']\n",
    "startRatio=['01', '02', '03', '04', '05']\n",
    "rewireRatio=[ 'r10_', 'r20_', 'r30_', 'r40_', 'r50_', 'r60_', 'r70_', 'r80_', 'r90_']\n",
    "data2={}\n",
    "average={}"
   ]
  },
  {
   "cell_type": "code",
   "execution_count": 93,
   "metadata": {},
   "outputs": [],
   "source": [
    "def create_data(path):\n",
    "    files=os.listdir(path)\n",
    "    botRatio=[]\n",
    "    for file in files:\n",
    "        if file.endswith(\".txt\"):\n",
    "            match = re.search(r\"_m(\\d+)_\", file)\n",
    "        if match:\n",
    "            result = match.group(0)\n",
    "        if not result in botRatio:\n",
    "            botRatio.append(result)\n",
    "    botRatio=sorted(botRatio, key=lambda x: int(x.strip('_m')))\n",
    "    #print(botRatio)\n",
    "    for rr in rewireRatio:\n",
    "        data2[rr]={}\n",
    "        average[rr]={}\n",
    "        for mat in botRatio:\n",
    "            data2[rr][mat]=[]\n",
    "            for file in files:\n",
    "                if mat in file and rr in file:\n",
    "                    #print(path+\" \"+file)\n",
    "                    with open(os.path.join(path, file), 'r') as f:\n",
    "                        content = pd.read_csv(path+\"/\"+file, names=['Epoch', 'Pop', 'Frac', 'DiscEdge'], skiprows=1, sep=\" \")\n",
    "                        content=content.drop(['Epoch', 'Pop'], axis=1)    \n",
    "                        finalPerc=content.iloc[-1, 0]\n",
    "                        data2[rr][mat].append(finalPerc)\n",
    "            avg=sum(data2[rr][mat])/len(data2[rr][mat])\n",
    "            if mat not in average[rr]: \n",
    "                average[rr][mat] = {}\n",
    "            average[rr][mat]=avg\n",
    "\n",
    "    print(average)\n",
    "    # print(data2)"
   ]
  },
  {
   "cell_type": "code",
   "execution_count": 94,
   "metadata": {},
   "outputs": [],
   "source": [
    "def transform_inner_key(key):\n",
    "    # Remove the '_m' prefix and '_' suffix\n",
    "    numeric_part = key.strip(\"_m_\")\n",
    "    # Divide by 10 to convert to floating-point\n",
    "    return float(numeric_part) / 10\n",
    "\n",
    "def transform_outer_key(key):\n",
    "    numeric_part = key.strip(\"r_\")\n",
    "    return int(numeric_part)"
   ]
  },
  {
   "cell_type": "code",
   "execution_count": 95,
   "metadata": {},
   "outputs": [],
   "source": [
    "def create_graphs():\n",
    "    transformed_data={}\n",
    "    for k, v in average.items():\n",
    "        transformed_data[k] = {}\n",
    "        transformed_data[k] = {transform_inner_key(ik): iv for ik, iv in v.items()}\n",
    "    final_data = {transform_outer_key(k): v for k, v in transformed_data.items()}\n",
    "    y_keys = sorted(final_data.keys())  # Outer keys (y-axis)\n",
    "    x_keys = sorted(final_data[10].keys()) # Inner keys (x-axis)\n",
    "\n",
    "    color_matrix = np.array([[final_data[y][x] for x in x_keys] for y in y_keys])\n",
    "\n",
    "    # Plot\n",
    "    plt.figure(figsize=(6, 6))\n",
    "    plt.imshow(color_matrix, origin='lower', extent=[min(x_keys), max(x_keys), min(y_keys), max(y_keys)],\n",
    "            aspect='auto', cmap='viridis')  # Use desired colormap\n",
    "\n",
    "    # Add colorbar\n",
    "    plt.colorbar(label='Final Opinion Density of Minority')\n",
    "\n",
    "    # Label axes\n",
    "    plt.xlabel('Bots Added (%)')\n",
    "    plt.ylabel('Rewire Rate (%)')\n",
    "    plt.title('Phase Plot with Minority Opinion Density Starting at 20%')\n",
    "\n",
    "    # Show the plot\n",
    "    figpath=output_folder_path+\"/PhasePlot.png\"\n",
    "    plt.savefig(figpath, dpi=350)\n",
    "    plt.show()"
   ]
  },
  {
   "cell_type": "code",
   "execution_count": 1,
   "metadata": {},
   "outputs": [
    {
     "ename": "NameError",
     "evalue": "name 'datasets' is not defined",
     "output_type": "error",
     "traceback": [
      "\u001b[0;31m---------------------------------------------------------------------------\u001b[0m",
      "\u001b[0;31mNameError\u001b[0m                                 Traceback (most recent call last)",
      "\u001b[1;32m/home/sagarswap/Programming/Thesis/visualizations/src/PhasePlot.ipynb Cell 6\u001b[0m line \u001b[0;36m1\n\u001b[0;32m----> <a href='vscode-notebook-cell:/home/sagarswap/Programming/Thesis/visualizations/src/PhasePlot.ipynb#W5sZmlsZQ%3D%3D?line=0'>1</a>\u001b[0m \u001b[39mfor\u001b[39;00m dataset \u001b[39min\u001b[39;00m datasets:\n\u001b[1;32m      <a href='vscode-notebook-cell:/home/sagarswap/Programming/Thesis/visualizations/src/PhasePlot.ipynb#W5sZmlsZQ%3D%3D?line=1'>2</a>\u001b[0m     create_data(input_folder_path)\n\u001b[1;32m      <a href='vscode-notebook-cell:/home/sagarswap/Programming/Thesis/visualizations/src/PhasePlot.ipynb#W5sZmlsZQ%3D%3D?line=2'>3</a>\u001b[0m     create_graphs()\n",
      "\u001b[0;31mNameError\u001b[0m: name 'datasets' is not defined"
     ]
    }
   ],
   "source": [
    "for dataset in datasets:\n",
    "    create_data(input_folder_path)\n",
    "    create_graphs()"
   ]
  }
 ],
 "metadata": {
  "kernelspec": {
   "display_name": "Python 3",
   "language": "python",
   "name": "python3"
  },
  "language_info": {
   "codemirror_mode": {
    "name": "ipython",
    "version": 3
   },
   "file_extension": ".py",
   "mimetype": "text/x-python",
   "name": "python",
   "nbconvert_exporter": "python",
   "pygments_lexer": "ipython3",
   "version": "3.10.12"
  }
 },
 "nbformat": 4,
 "nbformat_minor": 2
}

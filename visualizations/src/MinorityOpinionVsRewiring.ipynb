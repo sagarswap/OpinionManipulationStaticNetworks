{
 "cells": [
  {
   "cell_type": "code",
   "execution_count": 83,
   "metadata": {},
   "outputs": [],
   "source": [
    "import matplotlib.pyplot as plt\n",
    "import pandas as pd\n",
    "import os\n",
    "import re\n",
    "import numpy as np"
   ]
  },
  {
   "cell_type": "code",
   "execution_count": 84,
   "metadata": {},
   "outputs": [],
   "source": [
    "output_folder_path = \"../outputs/RealWorld/facebookMedium/bots/01\"\n",
    "input_folder_path=\"../../output/RealWorld/facebookMedium/bots/01\"\n",
    "#datasets=['astroPh', 'emailEU', 'facebook', 'facebookMedium', 'facebookArtist', 'gitInteractions', 'hepPh', 'lastfm', 'redditHyperlink', 'twitchDE', 'twitchENGB', 'twitchES', 'twitchFR', 'twitchPTBR', 'twitchRU']\n",
    "#botRatio=['m0_', 'm25_', 'm50_', 'm75_', 'm100_', 'm125_', 'm150_', 'm175_', 'm200_']\n",
    "datasets=['facebookMedium']\n",
    "startRatio=['01', '02', '03', '04', '05']\n",
    "rewireRatio=[ 'r10_', 'r20_', 'r30_', 'r40_', 'r50_', 'r60_', 'r70_', 'r80_', 'r90_']\n",
    "data2={}\n",
    "average={}"
   ]
  },
  {
   "cell_type": "code",
   "execution_count": 85,
   "metadata": {},
   "outputs": [],
   "source": [
    "def create_data(path):\n",
    "    files=os.listdir(path)\n",
    "\n",
    "    botRatio=[]\n",
    "    for file in files:\n",
    "        if file.endswith(\".txt\"):\n",
    "            match = re.search(r\"_m(\\d+)_\", file)\n",
    "        if match:\n",
    "            result = match.group(0)\n",
    "        if not result in botRatio:\n",
    "            botRatio.append(result)\n",
    "    botRatio=sorted(botRatio, key=lambda x: int(x.strip('_m')))\n",
    "\n",
    "    for mat in botRatio:\n",
    "        data2[mat]={}\n",
    "        average[mat]={}\n",
    "        for rr in rewireRatio:\n",
    "            data2[mat][rr]=[]\n",
    "            for file in files:\n",
    "                if mat in file and rr in file:\n",
    "                    #print(path+\" \"+file)\n",
    "                    with open(os.path.join(path, file), 'r') as f:\n",
    "                        content = pd.read_csv(path+\"/\"+file, names=['Epoch', 'Pop', 'Frac', 'DiscEdge'], skiprows=1, sep=\" \")\n",
    "\n",
    "                        content=content.drop(['Epoch', 'Pop'], axis=1)    \n",
    "                        finalPerc=content.iloc[-1, 1]\n",
    "                        finalEpoch=content.iloc[-1, 0]\n",
    "                        data2[mat][rr].append(finalEpoch)\n",
    "            avg=sum(data2[mat][rr])/len(data2[mat][rr])\n",
    "            if mat not in average: \n",
    "                average[mat] = {}\n",
    "            average[mat][rr]=avg    \n",
    "        "
   ]
  },
  {
   "cell_type": "code",
   "execution_count": 86,
   "metadata": {},
   "outputs": [],
   "source": [
    "def create_graphs():\n",
    "    # Create a 3x3 grid of subplots\n",
    "    fig, axes = plt.subplots(4, 3, figsize=(15, 15))\n",
    "    axes = axes.flatten()  # Flatten to iterate over each subplot\n",
    "    for idx, (outer_key, inner_dict) in enumerate(average.items()):\n",
    "        x_values = [float(k.strip('_r'))/100 for k in inner_dict.keys()]  # Extract numeric parts from keys\n",
    "        ok=outer_key\n",
    "        y_values = list(inner_dict.values())  # Get corresponding values\n",
    "        x = np.array(x_values)\n",
    "        y = np.array(y_values)\n",
    "        bot_ratio=float(outer_key.strip('_m'))/1000\n",
    "\n",
    "        ax = axes[idx]  # Select the subplot\n",
    "        outer_key=''.join(filter(str.isdigit, outer_key))\n",
    "        ax.plot(x, y, marker='o', label=outer_key)\n",
    "        print(ok)\n",
    "        for rewiring_key, values_list in data2[ok].items():\n",
    "            x_val = float(rewiring_key.strip('_r')) / 100\n",
    "            y_vals = values_list  # List of values for this rewiring rate                \n",
    "            ax.scatter([x_val] * len(y_vals), y_vals, color='red', alpha=0.5, label=\"Data points\" if idx == 0 else \"\")\n",
    "\n",
    "        ax.set_title(f'Final Op. Density Vs Rewiring Rate for BotRatio = {bot_ratio}')\n",
    "        ax.set_xlabel('Rewiring Rate')\n",
    "        ax.set_ylabel('Final Opinion Density of Minority')\n",
    "        ax.grid(True)\n",
    "    # Hide any unused subplots if data has fewer than 9 keys\n",
    "    for idx in range(len(average), 9):\n",
    "        fig.delaxes(axes[idx])\n",
    "\n",
    "    # Adjust layout\n",
    "    plt.tight_layout()\n",
    "    plt.show()\n",
    "    figpath=output_folder_path+\"/MinorityOpinionVsRewiring.png\"\n",
    "    fig.savefig(figpath, dpi=350)\n",
    "        "
   ]
  },
  {
   "cell_type": "code",
   "execution_count": 1,
   "metadata": {},
   "outputs": [
    {
     "ename": "NameError",
     "evalue": "name 'create_data' is not defined",
     "output_type": "error",
     "traceback": [
      "\u001b[0;31m---------------------------------------------------------------------------\u001b[0m",
      "\u001b[0;31mNameError\u001b[0m                                 Traceback (most recent call last)",
      "\u001b[1;32m/home/sagarswap/Programming/Thesis/visualizations/src/MinorityOpinionVsRewiring.ipynb Cell 5\u001b[0m line \u001b[0;36m1\n\u001b[0;32m----> <a href='vscode-notebook-cell:/home/sagarswap/Programming/Thesis/visualizations/src/MinorityOpinionVsRewiring.ipynb#W4sZmlsZQ%3D%3D?line=0'>1</a>\u001b[0m create_data(input_folder_path)\n\u001b[1;32m      <a href='vscode-notebook-cell:/home/sagarswap/Programming/Thesis/visualizations/src/MinorityOpinionVsRewiring.ipynb#W4sZmlsZQ%3D%3D?line=1'>2</a>\u001b[0m create_graphs()\n",
      "\u001b[0;31mNameError\u001b[0m: name 'create_data' is not defined"
     ]
    }
   ],
   "source": [
    "create_data(input_folder_path)\n",
    "create_graphs()"
   ]
  }
 ],
 "metadata": {
  "kernelspec": {
   "display_name": "Python 3",
   "language": "python",
   "name": "python3"
  },
  "language_info": {
   "codemirror_mode": {
    "name": "ipython",
    "version": 3
   },
   "file_extension": ".py",
   "mimetype": "text/x-python",
   "name": "python",
   "nbconvert_exporter": "python",
   "pygments_lexer": "ipython3",
   "version": "3.10.12"
  }
 },
 "nbformat": 4,
 "nbformat_minor": 2
}
